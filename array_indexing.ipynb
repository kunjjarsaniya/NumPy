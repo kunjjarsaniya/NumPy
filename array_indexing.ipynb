{
 "cells": [
  {
   "cell_type": "markdown",
   "id": "5fc4523c",
   "metadata": {},
   "source": [
    "## NumPy Indexing and Slicing\n",
    "\n",
    "In this script, we will learn how to index and slice NumPy arrays, including vectors and matrices. We will also cover boolean indexing, which is a powerful way to filter arrays based on conditions."
   ]
  },
  {
   "cell_type": "code",
   "execution_count": 1,
   "id": "654a54cc",
   "metadata": {},
   "outputs": [],
   "source": [
    "import numpy as np"
   ]
  },
  {
   "cell_type": "markdown",
   "id": "4de0f5b9",
   "metadata": {},
   "source": [
    "**Indexing and Slicing of Vectors**"
   ]
  },
  {
   "cell_type": "markdown",
   "id": "17d09de8",
   "metadata": {},
   "source": [
    "Create an array from 11 to 20"
   ]
  },
  {
   "cell_type": "code",
   "execution_count": 2,
   "id": "3c161cd9",
   "metadata": {},
   "outputs": [
    {
     "name": "stdout",
     "output_type": "stream",
     "text": [
      "Original array: [11 12 13 14 15 16 17 18 19 20]\n"
     ]
    }
   ],
   "source": [
    "arr = np.arange(11, 21)\n",
    "print(\"Original array:\", arr)"
   ]
  },
  {
   "cell_type": "markdown",
   "id": "c703a442",
   "metadata": {},
   "source": [
    "Slice the array starting from index 3 to the end, taking every 2nd element"
   ]
  },
  {
   "cell_type": "code",
   "execution_count": 3,
   "id": "5a2f3efe",
   "metadata": {},
   "outputs": [
    {
     "name": "stdout",
     "output_type": "stream",
     "text": [
      "Sliced array (from index 3, step 2): [14 16 18 20]\n"
     ]
    }
   ],
   "source": [
    "arr_slice = arr[3::2]\n",
    "print(\"Sliced array (from index 3, step 2):\", arr_slice)"
   ]
  },
  {
   "cell_type": "markdown",
   "id": "45824ef3",
   "metadata": {},
   "source": [
    "Access a single element by index"
   ]
  },
  {
   "cell_type": "code",
   "execution_count": 4,
   "id": "921642d6",
   "metadata": {},
   "outputs": [
    {
     "name": "stdout",
     "output_type": "stream",
     "text": [
      "Element at index 4: 15\n"
     ]
    }
   ],
   "source": [
    "print(\"Element at index 4:\", arr[4])"
   ]
  },
  {
   "cell_type": "markdown",
   "id": "db70d086",
   "metadata": {},
   "source": [
    "**Indexing and Slicing of Matrices**"
   ]
  },
  {
   "cell_type": "markdown",
   "id": "d1c88765",
   "metadata": {},
   "source": [
    "Create a 6x5 matrix with values from 1 to 30"
   ]
  },
  {
   "cell_type": "code",
   "execution_count": 5,
   "id": "1ed73507",
   "metadata": {},
   "outputs": [
    {
     "name": "stdout",
     "output_type": "stream",
     "text": [
      "Original 6x5 matrix:\n",
      " [[ 1  2  3  4  5]\n",
      " [ 6  7  8  9 10]\n",
      " [11 12 13 14 15]\n",
      " [16 17 18 19 20]\n",
      " [21 22 23 24 25]\n",
      " [26 27 28 29 30]]\n"
     ]
    }
   ],
   "source": [
    "arr = np.arange(1, 31).reshape(6, 5)\n",
    "print(\"Original 6x5 matrix:\\n\", arr)"
   ]
  },
  {
   "cell_type": "markdown",
   "id": "6b363ea5",
   "metadata": {},
   "source": [
    "Slice the matrix from row 3 to end and column 3 to end"
   ]
  },
  {
   "cell_type": "code",
   "execution_count": 6,
   "id": "bdb28242",
   "metadata": {},
   "outputs": [
    {
     "name": "stdout",
     "output_type": "stream",
     "text": [
      "Sliced matrix (rows 3 to end, columns 3 to end):\n",
      " [[19 20]\n",
      " [24 25]\n",
      " [29 30]]\n"
     ]
    }
   ],
   "source": [
    "slice_matrix = arr[3:, 3:]\n",
    "print(\"Sliced matrix (rows 3 to end, columns 3 to end):\\n\", slice_matrix)"
   ]
  },
  {
   "cell_type": "markdown",
   "id": "38864a7e",
   "metadata": {},
   "source": [
    "Access all rows in column 2"
   ]
  },
  {
   "cell_type": "code",
   "execution_count": 7,
   "id": "b21747f0",
   "metadata": {},
   "outputs": [
    {
     "name": "stdout",
     "output_type": "stream",
     "text": [
      "All rows, column 2: [ 3  8 13 18 23 28]\n"
     ]
    }
   ],
   "source": [
    "print(\"All rows, column 2:\", arr[:, 2])"
   ]
  },
  {
   "cell_type": "markdown",
   "id": "204aa400",
   "metadata": {},
   "source": [
    "**Boolean Indexing**"
   ]
  },
  {
   "cell_type": "markdown",
   "id": "d40a109e",
   "metadata": {},
   "source": [
    "Create an array from 11 to 20"
   ]
  },
  {
   "cell_type": "code",
   "execution_count": 8,
   "id": "ff5e492b",
   "metadata": {},
   "outputs": [
    {
     "name": "stdout",
     "output_type": "stream",
     "text": [
      "Original array: [11 12 13 14 15 16 17 18 19 20]\n"
     ]
    }
   ],
   "source": [
    "arr = np.arange(11, 21)\n",
    "print(\"Original array:\", arr)"
   ]
  },
  {
   "cell_type": "markdown",
   "id": "88f3ef1b",
   "metadata": {},
   "source": [
    "Create a boolean index for even numbers"
   ]
  },
  {
   "cell_type": "code",
   "execution_count": 9,
   "id": "ec2c8dc3",
   "metadata": {},
   "outputs": [
    {
     "name": "stdout",
     "output_type": "stream",
     "text": [
      "Boolean index for even numbers: [False  True False  True False  True False  True False  True]\n"
     ]
    }
   ],
   "source": [
    "bool_index = arr % 2 == 0\n",
    "print(\"Boolean index for even numbers:\", bool_index)"
   ]
  },
  {
   "cell_type": "markdown",
   "id": "71f53dde",
   "metadata": {},
   "source": [
    "Use boolean indexing to filter array elements"
   ]
  },
  {
   "cell_type": "code",
   "execution_count": 10,
   "id": "996c06b5",
   "metadata": {},
   "outputs": [
    {
     "name": "stdout",
     "output_type": "stream",
     "text": [
      "Filtered array (even numbers): [12 14 16 18 20]\n"
     ]
    }
   ],
   "source": [
    "filtered_arr = arr[bool_index]\n",
    "print(\"Filtered array (even numbers):\", filtered_arr)"
   ]
  },
  {
   "cell_type": "markdown",
   "id": "93a6a75d",
   "metadata": {},
   "source": [
    "Exercise:\n",
    " Try creating your own arrays and practice slicing with different start, stop, and step values. Experiment with boolean indexing using different conditions."
   ]
  }
 ],
 "metadata": {
  "kernelspec": {
   "display_name": "Python 3",
   "language": "python",
   "name": "python3"
  },
  "language_info": {
   "codemirror_mode": {
    "name": "ipython",
    "version": 3
   },
   "file_extension": ".py",
   "mimetype": "text/x-python",
   "name": "python",
   "nbconvert_exporter": "python",
   "pygments_lexer": "ipython3",
   "version": "3.13.1"
  }
 },
 "nbformat": 4,
 "nbformat_minor": 5
}
