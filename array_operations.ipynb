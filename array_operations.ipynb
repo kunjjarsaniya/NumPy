{
 "cells": [
  {
   "cell_type": "markdown",
   "id": "4485cdd8",
   "metadata": {},
   "source": [
    "## NumPy Array Operations\n",
    "\n",
    "This script covers arithmetic operations on arrays, broadcasting, deep vs shallow copies, matrix operations, and advanced array manipulations like stacking and splitting."
   ]
  },
  {
   "cell_type": "code",
   "execution_count": 1,
   "id": "80379b33",
   "metadata": {},
   "outputs": [],
   "source": [
    "import numpy as np"
   ]
  },
  {
   "cell_type": "markdown",
   "id": "e606b29e",
   "metadata": {},
   "source": [
    "#### ARRAY OPERATION"
   ]
  },
  {
   "cell_type": "markdown",
   "id": "856f1c3b",
   "metadata": {},
   "source": [
    "**Arithmetic Operations**"
   ]
  },
  {
   "cell_type": "code",
   "execution_count": 2,
   "id": "3ffe166f",
   "metadata": {},
   "outputs": [],
   "source": [
    "a1 = np.array([1, 2, 3, 4, 5])\n",
    "a2 = np.array([6, 7, 8, 9, 10])"
   ]
  },
  {
   "cell_type": "code",
   "execution_count": 3,
   "id": "4177b0ea",
   "metadata": {},
   "outputs": [
    {
     "name": "stdout",
     "output_type": "stream",
     "text": [
      "Array a1: [1 2 3 4 5]\n",
      "Array a2: [ 6  7  8  9 10]\n"
     ]
    }
   ],
   "source": [
    "print(\"Array a1:\", a1)\n",
    "print(\"Array a2:\", a2)"
   ]
  },
  {
   "cell_type": "code",
   "execution_count": 4,
   "id": "c28990f3",
   "metadata": {},
   "outputs": [
    {
     "name": "stdout",
     "output_type": "stream",
     "text": [
      "Addition: [ 7  9 11 13 15]\n",
      "Subtraction: [-5 -5 -5 -5 -5]\n",
      "Multiplication: [ 6 14 24 36 50]\n",
      "Division: [0.16666667 0.28571429 0.375      0.44444444 0.5       ]\n",
      "Floor Division: [0 0 0 0 0]\n",
      "Exponentiation: [      1     128    6561  262144 9765625]\n"
     ]
    }
   ],
   "source": [
    "print(\"Addition:\", a1 + a2)\n",
    "print(\"Subtraction:\", a1 - a2)\n",
    "print(\"Multiplication:\", a1 * a2)\n",
    "print(\"Division:\", a1 / a2)\n",
    "print(\"Floor Division:\", a1 // a2)\n",
    "print(\"Exponentiation:\", a1 ** a2)"
   ]
  },
  {
   "cell_type": "markdown",
   "id": "aefed456",
   "metadata": {},
   "source": [
    "Multiply array by scalar"
   ]
  },
  {
   "cell_type": "code",
   "execution_count": 5,
   "id": "fc89e6d8",
   "metadata": {},
   "outputs": [
    {
     "name": "stdout",
     "output_type": "stream",
     "text": [
      "Array a1 multiplied by 2: [ 2  4  6  8 10]\n"
     ]
    }
   ],
   "source": [
    "print(\"Array a1 multiplied by 2:\", a1 * 2)"
   ]
  },
  {
   "cell_type": "markdown",
   "id": "a4a8b737",
   "metadata": {},
   "source": [
    "**Broadcasting**"
   ]
  },
  {
   "cell_type": "code",
   "execution_count": 6,
   "id": "21dd3241",
   "metadata": {},
   "outputs": [
    {
     "name": "stdout",
     "output_type": "stream",
     "text": [
      "Original array: [10 20 30 40]\n"
     ]
    }
   ],
   "source": [
    "l = [10, 20, 30, 40]\n",
    "arr = np.array(l)\n",
    "print(\"Original array:\", arr)"
   ]
  },
  {
   "cell_type": "markdown",
   "id": "55e11cac",
   "metadata": {},
   "source": [
    "Add scalar to array (broadcasting)"
   ]
  },
  {
   "cell_type": "code",
   "execution_count": 7,
   "id": "e2363edf",
   "metadata": {},
   "outputs": [
    {
     "name": "stdout",
     "output_type": "stream",
     "text": [
      "Array after adding 10: [20 30 40 50]\n"
     ]
    }
   ],
   "source": [
    "print(\"Array after adding 10:\", arr + 10)"
   ]
  },
  {
   "cell_type": "markdown",
   "id": "c8b2e176",
   "metadata": {},
   "source": [
    "Create a 5x5 array"
   ]
  },
  {
   "cell_type": "code",
   "execution_count": 8,
   "id": "bfb601d4",
   "metadata": {},
   "outputs": [
    {
     "name": "stdout",
     "output_type": "stream",
     "text": [
      "Original 5x5 array:\n",
      " [[ 1  2  3  4  5]\n",
      " [ 6  7  8  9 10]\n",
      " [11 12 13 14 15]\n",
      " [16 17 18 19 20]\n",
      " [21 22 23 24 25]]\n"
     ]
    }
   ],
   "source": [
    "arr2 = np.arange(1, 26).reshape(5, 5)\n",
    "print(\"Original 5x5 array:\\n\", arr2)"
   ]
  },
  {
   "cell_type": "markdown",
   "id": "e3668b41",
   "metadata": {},
   "source": [
    "Add scalar to array"
   ]
  },
  {
   "cell_type": "code",
   "execution_count": 9,
   "id": "f876b257",
   "metadata": {},
   "outputs": [
    {
     "name": "stdout",
     "output_type": "stream",
     "text": [
      "Array after adding 10:\n",
      " [[11 12 13 14 15]\n",
      " [16 17 18 19 20]\n",
      " [21 22 23 24 25]\n",
      " [26 27 28 29 30]\n",
      " [31 32 33 34 35]]\n"
     ]
    }
   ],
   "source": [
    "arr2 = arr2 + 10\n",
    "print(\"Array after adding 10:\\n\", arr2)"
   ]
  },
  {
   "cell_type": "markdown",
   "id": "1465f5ab",
   "metadata": {},
   "source": [
    "**Deep and Shallow Copy**"
   ]
  },
  {
   "cell_type": "code",
   "execution_count": 10,
   "id": "2f4199f1",
   "metadata": {},
   "outputs": [
    {
     "name": "stdout",
     "output_type": "stream",
     "text": [
      "Original array a: [ 1  2  3  4  5  6  7  8  9 10 11 12 13 14 15 16 17 18 19 20]\n"
     ]
    }
   ],
   "source": [
    "a = np.arange(1, 21)\n",
    "print(\"Original array a:\", a)"
   ]
  },
  {
   "cell_type": "markdown",
   "id": "087cd85f",
   "metadata": {},
   "source": [
    "Create a slice (shallow copy)"
   ]
  },
  {
   "cell_type": "code",
   "execution_count": 11,
   "id": "6626c342",
   "metadata": {},
   "outputs": [
    {
     "name": "stdout",
     "output_type": "stream",
     "text": [
      "Slice of a: [1 2 3 4 5]\n"
     ]
    }
   ],
   "source": [
    "slice_a = a[:5]\n",
    "print(\"Slice of a:\", slice_a)"
   ]
  },
  {
   "cell_type": "markdown",
   "id": "c78d3256",
   "metadata": {},
   "source": [
    "Modify the slice"
   ]
  },
  {
   "cell_type": "code",
   "execution_count": 12,
   "id": "46385dd8",
   "metadata": {},
   "outputs": [
    {
     "name": "stdout",
     "output_type": "stream",
     "text": [
      "Modified slice: [10 20 30 40 50]\n"
     ]
    }
   ],
   "source": [
    "slice_a = slice_a * 10\n",
    "print(\"Modified slice:\", slice_a)"
   ]
  },
  {
   "cell_type": "markdown",
   "id": "9c696328",
   "metadata": {},
   "source": [
    "Original array remains unchanged because slice_a is a new array after multiplication"
   ]
  },
  {
   "cell_type": "code",
   "execution_count": 13,
   "id": "b2504a52",
   "metadata": {},
   "outputs": [
    {
     "name": "stdout",
     "output_type": "stream",
     "text": [
      "Original array a after modifying slice: [ 1  2  3  4  5  6  7  8  9 10 11 12 13 14 15 16 17 18 19 20]\n"
     ]
    }
   ],
   "source": [
    "print(\"Original array a after modifying slice:\", a)"
   ]
  },
  {
   "cell_type": "markdown",
   "id": "dbfc8b9c",
   "metadata": {},
   "source": [
    "Modify a slice of original array directly"
   ]
  },
  {
   "cell_type": "code",
   "execution_count": 14,
   "id": "c8ad0282",
   "metadata": {},
   "outputs": [
    {
     "name": "stdout",
     "output_type": "stream",
     "text": [
      "Original array a after modifying elements 4 and 5: [ 1  2  3  4 50 60  7  8  9 10 11 12 13 14 15 16 17 18 19 20]\n"
     ]
    }
   ],
   "source": [
    "a[4:6] = a[4:6] * 10\n",
    "print(\"Original array a after modifying elements 4 and 5:\", a)"
   ]
  },
  {
   "cell_type": "markdown",
   "id": "4ef0a1d8",
   "metadata": {},
   "source": [
    "Create a deep copy"
   ]
  },
  {
   "cell_type": "code",
   "execution_count": 15,
   "id": "6a202ab9",
   "metadata": {},
   "outputs": [
    {
     "name": "stdout",
     "output_type": "stream",
     "text": [
      "Deep copy b after modification: [99  2  3  4 50 60  7  8  9 10 11 12 13 14 15 16 17 18 19 20]\n",
      "Original array a remains unchanged: [ 1  2  3  4 50 60  7  8  9 10 11 12 13 14 15 16 17 18 19 20]\n"
     ]
    }
   ],
   "source": [
    "b = a.copy()\n",
    "b[0] = 99\n",
    "print(\"Deep copy b after modification:\", b)\n",
    "print(\"Original array a remains unchanged:\", a)"
   ]
  },
  {
   "cell_type": "markdown",
   "id": "a78e7a3f",
   "metadata": {},
   "source": [
    "**Matrix Operations**"
   ]
  },
  {
   "cell_type": "code",
   "execution_count": 16,
   "id": "e0b81c9f",
   "metadata": {},
   "outputs": [],
   "source": [
    "A = np.array([[1, 2], [3, 4]])\n",
    "B = np.array([[5, 6], [7, 8]])"
   ]
  },
  {
   "cell_type": "code",
   "execution_count": 17,
   "id": "8c51776a",
   "metadata": {},
   "outputs": [
    {
     "name": "stdout",
     "output_type": "stream",
     "text": [
      "Matrix A:\n",
      " [[1 2]\n",
      " [3 4]]\n",
      "Matrix B:\n",
      " [[5 6]\n",
      " [7 8]]\n"
     ]
    }
   ],
   "source": [
    "print(\"Matrix A:\\n\", A)\n",
    "print(\"Matrix B:\\n\", B)"
   ]
  },
  {
   "cell_type": "markdown",
   "id": "3b0d36d4",
   "metadata": {},
   "source": [
    "Matrix multiplication"
   ]
  },
  {
   "cell_type": "code",
   "execution_count": 18,
   "id": "809e3e49",
   "metadata": {},
   "outputs": [
    {
     "name": "stdout",
     "output_type": "stream",
     "text": [
      "Dot product of A and B:\n",
      " [[19 22]\n",
      " [43 50]]\n"
     ]
    }
   ],
   "source": [
    "print(\"Dot product of A and B:\\n\", np.dot(A, B))"
   ]
  },
  {
   "cell_type": "markdown",
   "id": "545e6a74",
   "metadata": {},
   "source": [
    "Transpose of A"
   ]
  },
  {
   "cell_type": "code",
   "execution_count": 19,
   "id": "bf99cc65",
   "metadata": {},
   "outputs": [
    {
     "name": "stdout",
     "output_type": "stream",
     "text": [
      "Transpose of A:\n",
      " [[1 3]\n",
      " [2 4]]\n"
     ]
    }
   ],
   "source": [
    "print(\"Transpose of A:\\n\", A.T)"
   ]
  },
  {
   "cell_type": "markdown",
   "id": "3b6d5e3d",
   "metadata": {},
   "source": [
    "**Advanced Array Manipulation**"
   ]
  },
  {
   "cell_type": "markdown",
   "id": "cc2f5fc1",
   "metadata": {},
   "source": [
    "Stacking arrays vertically and horizontally"
   ]
  },
  {
   "cell_type": "code",
   "execution_count": 20,
   "id": "df539578",
   "metadata": {},
   "outputs": [],
   "source": [
    "a = np.array([1, 2, 3, 4])\n",
    "b = np.array([5, 6, 7, 8])"
   ]
  },
  {
   "cell_type": "code",
   "execution_count": 21,
   "id": "02580cca",
   "metadata": {},
   "outputs": [
    {
     "name": "stdout",
     "output_type": "stream",
     "text": [
      "Array a: [1 2 3 4]\n",
      "Array b: [5 6 7 8]\n"
     ]
    }
   ],
   "source": [
    "print(\"Array a:\", a)\n",
    "print(\"Array b:\", b)"
   ]
  },
  {
   "cell_type": "code",
   "execution_count": 22,
   "id": "585152cf",
   "metadata": {},
   "outputs": [
    {
     "name": "stdout",
     "output_type": "stream",
     "text": [
      "Vertical stack:\n",
      " [[1 2 3 4]\n",
      " [5 6 7 8]]\n",
      "Horizontal stack:\n",
      " [1 2 3 4 5 6 7 8]\n",
      "Column stack:\n",
      " [[1 5]\n",
      " [2 6]\n",
      " [3 7]\n",
      " [4 8]]\n"
     ]
    }
   ],
   "source": [
    "print(\"Vertical stack:\\n\", np.vstack((a, b)))\n",
    "print(\"Horizontal stack:\\n\", np.hstack((a, b)))\n",
    "print(\"Column stack:\\n\", np.column_stack((a, b)))"
   ]
  },
  {
   "cell_type": "markdown",
   "id": "34805a93",
   "metadata": {},
   "source": [
    "**Splitting arrays**"
   ]
  },
  {
   "cell_type": "code",
   "execution_count": 23,
   "id": "6f192965",
   "metadata": {},
   "outputs": [
    {
     "name": "stdout",
     "output_type": "stream",
     "text": [
      "Original array c:\n",
      " [[ 0  1  2  3]\n",
      " [ 4  5  6  7]\n",
      " [ 8  9 10 11]\n",
      " [12 13 14 15]]\n"
     ]
    }
   ],
   "source": [
    "c = np.arange(16).reshape(4, 4)\n",
    "print(\"Original array c:\\n\", c)"
   ]
  },
  {
   "cell_type": "markdown",
   "id": "108669cb",
   "metadata": {},
   "source": [
    "Horizontal split into 4 parts"
   ]
  },
  {
   "cell_type": "code",
   "execution_count": 24,
   "id": "a6678ed1",
   "metadata": {},
   "outputs": [
    {
     "name": "stdout",
     "output_type": "stream",
     "text": [
      "Horizontal split into 4 parts:\n",
      "[[ 0]\n",
      " [ 4]\n",
      " [ 8]\n",
      " [12]]\n",
      "[[ 1]\n",
      " [ 5]\n",
      " [ 9]\n",
      " [13]]\n",
      "[[ 2]\n",
      " [ 6]\n",
      " [10]\n",
      " [14]]\n",
      "[[ 3]\n",
      " [ 7]\n",
      " [11]\n",
      " [15]]\n"
     ]
    }
   ],
   "source": [
    "hsplit = np.hsplit(c, 4)\n",
    "print(\"Horizontal split into 4 parts:\")\n",
    "for part in hsplit:\n",
    "    print(part)"
   ]
  },
  {
   "cell_type": "markdown",
   "id": "4fd01657",
   "metadata": {},
   "source": [
    "Vertical split into 2 parts"
   ]
  },
  {
   "cell_type": "code",
   "execution_count": 25,
   "id": "2cdf2a6b",
   "metadata": {},
   "outputs": [
    {
     "name": "stdout",
     "output_type": "stream",
     "text": [
      "Vertical split into 2 parts:\n",
      "[[0 1 2 3]\n",
      " [4 5 6 7]]\n",
      "[[ 8  9 10 11]\n",
      " [12 13 14 15]]\n"
     ]
    }
   ],
   "source": [
    "vsplit = np.vsplit(c, 2)\n",
    "print(\"Vertical split into 2 parts:\")\n",
    "for part in vsplit:\n",
    "    print(part)"
   ]
  },
  {
   "cell_type": "markdown",
   "id": "bbd7046f",
   "metadata": {},
   "source": [
    "Exercise:\n",
    " Practice arithmetic operations, broadcasting, and array manipulations. Try stacking and splitting arrays of different shapes."
   ]
  }
 ],
 "metadata": {
  "kernelspec": {
   "display_name": "Python 3",
   "language": "python",
   "name": "python3"
  },
  "language_info": {
   "codemirror_mode": {
    "name": "ipython",
    "version": 3
   },
   "file_extension": ".py",
   "mimetype": "text/x-python",
   "name": "python",
   "nbconvert_exporter": "python",
   "pygments_lexer": "ipython3",
   "version": "3.13.1"
  }
 },
 "nbformat": 4,
 "nbformat_minor": 5
}
