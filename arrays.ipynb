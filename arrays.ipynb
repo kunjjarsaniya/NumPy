{
 "cells": [
  {
   "cell_type": "markdown",
   "id": "dbb6007d",
   "metadata": {},
   "source": [
    "## Introduction to NumPy Arrays\n",
    "\n",
    "In this script, we will learn the basics of NumPy arrays, including how to create arrays, generate arrays using different functions, understand array attributes and methods, and reshape arrays. This is foundational knowledge for working with NumPy effectively."
   ]
  },
  {
   "cell_type": "markdown",
   "id": "9b99fd7e",
   "metadata": {},
   "source": [
    "**Basic Array Creation**\n",
    "\n",
    "We can create a NumPy array from a Python list using the `np.array()` function."
   ]
  },
  {
   "cell_type": "code",
   "execution_count": 1,
   "id": "eeb0769a",
   "metadata": {},
   "outputs": [],
   "source": [
    "import numpy as np"
   ]
  },
  {
   "cell_type": "markdown",
   "id": "9eb6226e",
   "metadata": {},
   "source": [
    "Create a 1D array from a list"
   ]
  },
  {
   "cell_type": "code",
   "execution_count": 2,
   "id": "e0d88a53",
   "metadata": {},
   "outputs": [
    {
     "name": "stdout",
     "output_type": "stream",
     "text": [
      "[1 2 3 4]\n"
     ]
    }
   ],
   "source": [
    "arr = np.array([1, 2, 3, 4])\n",
    "print(arr)"
   ]
  },
  {
   "cell_type": "markdown",
   "id": "420af516",
   "metadata": {},
   "source": [
    "You can also create arrays from lists containing different data types. NumPy will upcast to a common type if needed."
   ]
  },
  {
   "cell_type": "markdown",
   "id": "19ae49f6",
   "metadata": {},
   "source": [
    "List with mixed types"
   ]
  },
  {
   "cell_type": "code",
   "execution_count": 3,
   "id": "e5a3607f",
   "metadata": {},
   "outputs": [
    {
     "name": "stdout",
     "output_type": "stream",
     "text": [
      "Original list: [1, 2, 3.5]\n"
     ]
    }
   ],
   "source": [
    "a = [1, 2, 3.5]\n",
    "print(\"Original list:\", a)"
   ]
  },
  {
   "cell_type": "markdown",
   "id": "6289741e",
   "metadata": {},
   "source": [
    "Convert to NumPy array (note the data type upcasting to float)"
   ]
  },
  {
   "cell_type": "code",
   "execution_count": 4,
   "id": "a0509d95",
   "metadata": {},
   "outputs": [
    {
     "name": "stdout",
     "output_type": "stream",
     "text": [
      "NumPy array: [1.  2.  3.5]\n"
     ]
    }
   ],
   "source": [
    "arr_mixed = np.array(a)\n",
    "print(\"NumPy array:\", arr_mixed)"
   ]
  },
  {
   "cell_type": "markdown",
   "id": "ee5d9eaf",
   "metadata": {},
   "source": [
    "Creating Multi-dimensional Arrays\n",
    "\n",
    "You can create 2D or higher dimensional arrays by passing nested lists."
   ]
  },
  {
   "cell_type": "markdown",
   "id": "d52ecf9f",
   "metadata": {},
   "source": [
    "2D list"
   ]
  },
  {
   "cell_type": "code",
   "execution_count": 5,
   "id": "aa1a34d9",
   "metadata": {},
   "outputs": [
    {
     "name": "stdout",
     "output_type": "stream",
     "text": [
      "[[1 2 3]\n",
      " [4 5 6]\n",
      " [7 8 9]]\n"
     ]
    }
   ],
   "source": [
    "l = [[1, 2, 3], [4, 5, 6], [7, 8, 9]]\n",
    "arr_2d = np.array(l)\n",
    "print(arr_2d)"
   ]
  },
  {
   "cell_type": "markdown",
   "id": "feda7fdf",
   "metadata": {},
   "source": [
    "**Array Generation Functions**\n",
    "\n",
    "NumPy provides several functions to generate arrays with specific patterns or values."
   ]
  },
  {
   "cell_type": "markdown",
   "id": "c0122a3b",
   "metadata": {},
   "source": [
    "Generate values from 1 to 10 with step 2"
   ]
  },
  {
   "cell_type": "code",
   "execution_count": 6,
   "id": "88ed663c",
   "metadata": {},
   "outputs": [
    {
     "name": "stdout",
     "output_type": "stream",
     "text": [
      "[1 3 5 7 9]\n"
     ]
    }
   ],
   "source": [
    "arr = np.arange(1, 11, 2)\n",
    "print(arr)"
   ]
  },
  {
   "cell_type": "markdown",
   "id": "f00dfcff",
   "metadata": {},
   "source": [
    "Create an array of zeros with shape (4, 8)"
   ]
  },
  {
   "cell_type": "code",
   "execution_count": 7,
   "id": "43c46e63",
   "metadata": {},
   "outputs": [
    {
     "name": "stdout",
     "output_type": "stream",
     "text": [
      "[[0. 0. 0. 0. 0. 0. 0. 0.]\n",
      " [0. 0. 0. 0. 0. 0. 0. 0.]\n",
      " [0. 0. 0. 0. 0. 0. 0. 0.]\n",
      " [0. 0. 0. 0. 0. 0. 0. 0.]]\n"
     ]
    }
   ],
   "source": [
    "zeros_arr = np.zeros((4, 8))\n",
    "print(zeros_arr)"
   ]
  },
  {
   "cell_type": "markdown",
   "id": "60adfef2",
   "metadata": {},
   "source": [
    "Create an array of ones with shape (6, 6)"
   ]
  },
  {
   "cell_type": "code",
   "execution_count": 8,
   "id": "1d9c4960",
   "metadata": {},
   "outputs": [
    {
     "name": "stdout",
     "output_type": "stream",
     "text": [
      "[[1. 1. 1. 1. 1. 1.]\n",
      " [1. 1. 1. 1. 1. 1.]\n",
      " [1. 1. 1. 1. 1. 1.]\n",
      " [1. 1. 1. 1. 1. 1.]\n",
      " [1. 1. 1. 1. 1. 1.]\n",
      " [1. 1. 1. 1. 1. 1.]]\n"
     ]
    }
   ],
   "source": [
    "ones_arr = np.ones((6, 6))\n",
    "print(ones_arr)"
   ]
  },
  {
   "cell_type": "markdown",
   "id": "224106b0",
   "metadata": {},
   "source": [
    "Create 100 evenly spaced values between 0 and 1"
   ]
  },
  {
   "cell_type": "code",
   "execution_count": 9,
   "id": "5a8d41f7",
   "metadata": {},
   "outputs": [
    {
     "name": "stdout",
     "output_type": "stream",
     "text": [
      "[0.         0.01010101 0.02020202 0.03030303 0.04040404 0.05050505\n",
      " 0.06060606 0.07070707 0.08080808 0.09090909 0.1010101  0.11111111\n",
      " 0.12121212 0.13131313 0.14141414 0.15151515 0.16161616 0.17171717\n",
      " 0.18181818 0.19191919 0.2020202  0.21212121 0.22222222 0.23232323\n",
      " 0.24242424 0.25252525 0.26262626 0.27272727 0.28282828 0.29292929\n",
      " 0.3030303  0.31313131 0.32323232 0.33333333 0.34343434 0.35353535\n",
      " 0.36363636 0.37373737 0.38383838 0.39393939 0.4040404  0.41414141\n",
      " 0.42424242 0.43434343 0.44444444 0.45454545 0.46464646 0.47474747\n",
      " 0.48484848 0.49494949 0.50505051 0.51515152 0.52525253 0.53535354\n",
      " 0.54545455 0.55555556 0.56565657 0.57575758 0.58585859 0.5959596\n",
      " 0.60606061 0.61616162 0.62626263 0.63636364 0.64646465 0.65656566\n",
      " 0.66666667 0.67676768 0.68686869 0.6969697  0.70707071 0.71717172\n",
      " 0.72727273 0.73737374 0.74747475 0.75757576 0.76767677 0.77777778\n",
      " 0.78787879 0.7979798  0.80808081 0.81818182 0.82828283 0.83838384\n",
      " 0.84848485 0.85858586 0.86868687 0.87878788 0.88888889 0.8989899\n",
      " 0.90909091 0.91919192 0.92929293 0.93939394 0.94949495 0.95959596\n",
      " 0.96969697 0.97979798 0.98989899 1.        ]\n"
     ]
    }
   ],
   "source": [
    "linspace_arr = np.linspace(0, 1, 100)\n",
    "print(linspace_arr)"
   ]
  },
  {
   "cell_type": "markdown",
   "id": "b17cc7aa",
   "metadata": {},
   "source": [
    "**Random Number Generation**\n",
    "\n",
    "NumPy can generate random numbers from different distributions."
   ]
  },
  {
   "cell_type": "markdown",
   "id": "1901aad9",
   "metadata": {},
   "source": [
    "Generate 10 random numbers from uniform distribution [0,1)"
   ]
  },
  {
   "cell_type": "code",
   "execution_count": 10,
   "id": "a462b527",
   "metadata": {},
   "outputs": [
    {
     "name": "stdout",
     "output_type": "stream",
     "text": [
      "[0.27274933 0.98967144 0.17775813 0.78998861 0.5945733  0.56938588\n",
      " 0.78461293 0.18207735 0.53780531 0.66689764]\n"
     ]
    }
   ],
   "source": [
    "rand_vals = np.random.rand(10)\n",
    "print(rand_vals)"
   ]
  },
  {
   "cell_type": "markdown",
   "id": "e9f7428b",
   "metadata": {},
   "source": [
    "Generate 10 random numbers from standard normal distribution"
   ]
  },
  {
   "cell_type": "code",
   "execution_count": 11,
   "id": "a6fdee49",
   "metadata": {},
   "outputs": [
    {
     "name": "stdout",
     "output_type": "stream",
     "text": [
      "[ 1.69625513 -2.81686016 -1.71967708 -1.32684124  0.68186127  0.57849428\n",
      "  0.49384002  0.84339379 -1.0490028   3.09962407]\n"
     ]
    }
   ],
   "source": [
    "randn_vals = np.random.randn(10)\n",
    "print(randn_vals)"
   ]
  },
  {
   "cell_type": "markdown",
   "id": "14ddcfd2",
   "metadata": {},
   "source": [
    "Generate 10 random integers between 10 and 20"
   ]
  },
  {
   "cell_type": "code",
   "execution_count": 12,
   "id": "cb671093",
   "metadata": {},
   "outputs": [
    {
     "name": "stdout",
     "output_type": "stream",
     "text": [
      "[17 12 13 11 11 18 18 10 16 11]\n"
     ]
    }
   ],
   "source": [
    "randint_vals = np.random.randint(10, 20, 10)\n",
    "print(randint_vals)"
   ]
  },
  {
   "cell_type": "markdown",
   "id": "f275bf0d",
   "metadata": {},
   "source": [
    "**Array Attributes**\n",
    "\n",
    "Arrays have attributes that describe their shape, size, and data type."
   ]
  },
  {
   "cell_type": "code",
   "execution_count": 13,
   "id": "fedd4902",
   "metadata": {},
   "outputs": [
    {
     "name": "stdout",
     "output_type": "stream",
     "text": [
      "Array:\n",
      "[[1 2 3]\n",
      " [4 5 6]\n",
      " [7 8 9]]\n",
      "\n",
      "Shape: (3, 3)\n",
      "\n",
      "Size: 9\n",
      "\n",
      "Data type: int64\n"
     ]
    }
   ],
   "source": [
    "arr = np.array([[1, 2, 3], [4, 5, 6], [7, 8, 9]])\n",
    "print(\"Array:\")\n",
    "print(arr)\n",
    "print(\"\\nShape:\", arr.shape)  # Dimensions of the array\n",
    "print(\"\\nSize:\", arr.size)    # Total number of elements\n",
    "print(\"\\nData type:\", arr.dtype)  # Data type of elements"
   ]
  },
  {
   "cell_type": "markdown",
   "id": "ac6eb896",
   "metadata": {},
   "source": [
    "**Array Methods**\n",
    "\n",
    "NumPy arrays have many useful methods for computations."
   ]
  },
  {
   "cell_type": "code",
   "execution_count": 14,
   "id": "c76e7845",
   "metadata": {},
   "outputs": [
    {
     "name": "stdout",
     "output_type": "stream",
     "text": [
      "Minimum value: 1\n",
      "Maximum value: 9\n",
      "Sum of all elements: 45\n",
      "Sum along axis 1 (rows): [ 6 15 24]\n",
      "Mean value: 5.0\n",
      "Standard deviation: 2.581988897471611\n",
      "Index of max value: 8\n",
      "Index of min value: 0\n"
     ]
    }
   ],
   "source": [
    "print(\"Minimum value:\", arr.min())\n",
    "print(\"Maximum value:\", arr.max())\n",
    "print(\"Sum of all elements:\", arr.sum())\n",
    "print(\"Sum along axis 1 (rows):\", np.sum(arr, axis=1))\n",
    "print(\"Mean value:\", arr.mean())\n",
    "print(\"Standard deviation:\", arr.std())\n",
    "print(\"Index of max value:\", arr.argmax())\n",
    "print(\"Index of min value:\", arr.argmin())"
   ]
  },
  {
   "cell_type": "markdown",
   "id": "d54ad45b",
   "metadata": {},
   "source": [
    "**Reshaping and Resizing Arrays**\n",
    "\n",
    "You can change the shape of an array without changing its data using `reshape`."
   ]
  },
  {
   "cell_type": "code",
   "execution_count": 15,
   "id": "d6c12986",
   "metadata": {},
   "outputs": [
    {
     "name": "stdout",
     "output_type": "stream",
     "text": [
      "Original array: [ 1  2  3  4  5  6  7  8  9 10 11 12 13 14 15 16 17 18 19 20 21 22 23 24\n",
      " 25 26 27 28 29 30]\n"
     ]
    }
   ],
   "source": [
    "arr = np.arange(1, 31)\n",
    "print(\"Original array:\", arr)"
   ]
  },
  {
   "cell_type": "markdown",
   "id": "69ebd86b",
   "metadata": {},
   "source": [
    "Reshape to 6 rows and 5 columns"
   ]
  },
  {
   "cell_type": "code",
   "execution_count": 16,
   "id": "2416a8b1",
   "metadata": {},
   "outputs": [
    {
     "name": "stdout",
     "output_type": "stream",
     "text": [
      "Reshaped array (6x5):\n",
      "[[ 1  2  3  4  5]\n",
      " [ 6  7  8  9 10]\n",
      " [11 12 13 14 15]\n",
      " [16 17 18 19 20]\n",
      " [21 22 23 24 25]\n",
      " [26 27 28 29 30]]\n"
     ]
    }
   ],
   "source": [
    "reshaped_arr = arr.reshape(6, 5)\n",
    "print(\"Reshaped array (6x5):\")\n",
    "print(reshaped_arr)"
   ]
  },
  {
   "cell_type": "markdown",
   "id": "6f70e11a",
   "metadata": {},
   "source": [
    "Exercise:\n",
    "Try creating arrays using different NumPy functions like `arange`, `zeros`, `ones`, and `linspace`. Experiment with reshaping arrays and observe their attributes."
   ]
  }
 ],
 "metadata": {
  "kernelspec": {
   "display_name": "Python 3",
   "language": "python",
   "name": "python3"
  },
  "language_info": {
   "codemirror_mode": {
    "name": "ipython",
    "version": 3
   },
   "file_extension": ".py",
   "mimetype": "text/x-python",
   "name": "python",
   "nbconvert_exporter": "python",
   "pygments_lexer": "ipython3",
   "version": "3.13.1"
  }
 },
 "nbformat": 4,
 "nbformat_minor": 5
}
