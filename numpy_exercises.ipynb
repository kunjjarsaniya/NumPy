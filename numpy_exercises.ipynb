{
 "cells": [
  {
   "cell_type": "markdown",
   "id": "8629c470",
   "metadata": {},
   "source": [
    "## NumPy Exercises\n",
    "\n",
    "This script contains practical exercises to apply NumPy concepts, including Sudoku validation and general data manipulation tasks."
   ]
  },
  {
   "cell_type": "code",
   "execution_count": 1,
   "id": "e9e155e8",
   "metadata": {},
   "outputs": [],
   "source": [
    "import numpy as np"
   ]
  },
  {
   "cell_type": "markdown",
   "id": "098dc4de",
   "metadata": {},
   "source": [
    "**Exercise 1: Valid Sudoku Check**"
   ]
  },
  {
   "cell_type": "markdown",
   "id": "b9b4e2d2",
   "metadata": {},
   "source": [
    "Define a Sudoku grid as a 9x9 NumPy array"
   ]
  },
  {
   "cell_type": "code",
   "execution_count": 2,
   "id": "716b15ee",
   "metadata": {},
   "outputs": [],
   "source": [
    "sudoku = np.array([\n",
    "    [5, 3, 4, 6, 7, 8, 9, 1, 2],\n",
    "    [6, 7, 2, 1, 9, 5, 3, 4, 8],\n",
    "    [1, 9, 8, 3, 4, 2, 5, 6, 7],\n",
    "    [8, 5, 9, 7, 6, 1, 4, 2, 3],\n",
    "    [4, 2, 6, 8, 5, 3, 7, 9, 1],\n",
    "    [7, 1, 3, 9, 2, 4, 8, 5, 6],\n",
    "    [9, 6, 1, 5, 3, 7, 2, 8, 4],\n",
    "    [2, 8, 7, 4, 1, 9, 6, 3, 5],\n",
    "    [3, 4, 5, 2, 8, 6, 1, 7, 9]\n",
    "])"
   ]
  },
  {
   "cell_type": "markdown",
   "id": "592a56b1",
   "metadata": {},
   "source": [
    "Check if each row sums to 45 (sum of numbers 1 to 9)"
   ]
  },
  {
   "cell_type": "code",
   "execution_count": 3,
   "id": "ae2ed0ec",
   "metadata": {},
   "outputs": [
    {
     "name": "stdout",
     "output_type": "stream",
     "text": [
      "Sudoku rows are valid\n"
     ]
    }
   ],
   "source": [
    "row_sums = np.sum(sudoku, axis=1)\n",
    "for i, total in enumerate(row_sums):\n",
    "    if total != 45:\n",
    "        print(f\"Sudoku is not valid in row {i}\")\n",
    "        break\n",
    "else:\n",
    "    print(\"Sudoku rows are valid\")"
   ]
  },
  {
   "cell_type": "markdown",
   "id": "07f777da",
   "metadata": {},
   "source": [
    "Check sums of each 3x3 subgrid"
   ]
  },
  {
   "cell_type": "code",
   "execution_count": 4,
   "id": "7a66c1b9",
   "metadata": {},
   "outputs": [
    {
     "name": "stdout",
     "output_type": "stream",
     "text": [
      "Sum of each 3x3 subgrid:\n",
      "45\n",
      "45\n",
      "45\n",
      "45\n",
      "45\n",
      "45\n",
      "45\n",
      "45\n",
      "45\n"
     ]
    }
   ],
   "source": [
    "print(\"Sum of each 3x3 subgrid:\")\n",
    "for i in range(0, 9, 3):\n",
    "    for j in range(0, 9, 3):\n",
    "        subgrid = sudoku[i:i+3, j:j+3]\n",
    "        print(subgrid.sum())"
   ]
  },
  {
   "cell_type": "markdown",
   "id": "eae781ea",
   "metadata": {},
   "source": [
    "**Exercise 2: General Data Manipulation Questions**"
   ]
  },
  {
   "cell_type": "code",
   "execution_count": 5,
   "id": "399a965f",
   "metadata": {},
   "outputs": [],
   "source": [
    "import numpy as np\n",
    "\n",
    "# Columns: [Age, Math Marks, Science Marks]\n",
    "data = np.array([\n",
    "    [18, 85, 78],   # Student 1\n",
    "    [19, 92, 88],   # Student 2\n",
    "    [17, 76, 95],   # Student 3\n",
    "    [18, 65, 70],   # Student 4\n",
    "    [20, 90, 85]    # Student 5\n",
    "])"
   ]
  },
  {
   "cell_type": "code",
   "execution_count": 6,
   "id": "258f41c0",
   "metadata": {},
   "outputs": [
    {
     "name": "stdout",
     "output_type": "stream",
     "text": [
      "Data shape: (5, 3)\n"
     ]
    }
   ],
   "source": [
    "#Get the shape of the matrix.\n",
    "\n",
    "data_shape = data.shape\n",
    "print(\"Data shape:\", data_shape)"
   ]
  },
  {
   "cell_type": "code",
   "execution_count": 7,
   "id": "d3b2efa2",
   "metadata": {},
   "outputs": [
    {
     "name": "stdout",
     "output_type": "stream",
     "text": [
      "Average age: 18.4\n"
     ]
    }
   ],
   "source": [
    "#Find the average age of students.\n",
    "\n",
    "average_age = np.mean(data[:, 0])\n",
    "print(\"Average age:\", average_age)"
   ]
  },
  {
   "cell_type": "code",
   "execution_count": 8,
   "id": "562ea3d7",
   "metadata": {},
   "outputs": [
    {
     "name": "stdout",
     "output_type": "stream",
     "text": [
      "Math marks: [85 92 76 65 90]\n"
     ]
    }
   ],
   "source": [
    "#Extract Math marks of all students.\n",
    "\n",
    "math_marks = data[:, 1]\n",
    "print(\"Math marks:\", math_marks)"
   ]
  },
  {
   "cell_type": "code",
   "execution_count": 9,
   "id": "9e57cf56",
   "metadata": {},
   "outputs": [
    {
     "name": "stdout",
     "output_type": "stream",
     "text": [
      "Highest Science mark: 95\n"
     ]
    }
   ],
   "source": [
    "#Find the highest Science mark.\n",
    "\n",
    "highest_science_mark = np.max(data[:, 2])\n",
    "print(\"Highest Science mark:\", highest_science_mark)"
   ]
  },
  {
   "cell_type": "code",
   "execution_count": 10,
   "id": "3d95dca5",
   "metadata": {},
   "outputs": [
    {
     "name": "stdout",
     "output_type": "stream",
     "text": [
      "Students scoring above 90 in Math:\n",
      " [[19 92 88]]\n"
     ]
    }
   ],
   "source": [
    "#Get details of the student who scored more than 90 in Math.\n",
    "\n",
    "students_above_90_math = data[data[:, 1] > 90]\n",
    "print(\"Students scoring above 90 in Math:\\n\", students_above_90_math)"
   ]
  },
  {
   "cell_type": "code",
   "execution_count": 11,
   "id": "0a42e755",
   "metadata": {},
   "outputs": [
    {
     "name": "stdout",
     "output_type": "stream",
     "text": [
      "Math marks after adding 5:\n",
      " [90 97 81 70 95]\n"
     ]
    }
   ],
   "source": [
    "#Increase Math marks of all students by 5.\n",
    "\n",
    "data[:, 1] += 5\n",
    "print(\"Math marks after adding 5:\\n\", data[:, 1])"
   ]
  },
  {
   "cell_type": "code",
   "execution_count": 12,
   "id": "6078a6a2",
   "metadata": {},
   "outputs": [
    {
     "name": "stdout",
     "output_type": "stream",
     "text": [
      "Number of students younger than 19: 3\n"
     ]
    }
   ],
   "source": [
    "#Find how many students are younger than 19.\n",
    "\n",
    "younger_students_count = np.sum(data[:, 0] < 19)\n",
    "print(\"Number of students younger than 19:\", younger_students_count)"
   ]
  },
  {
   "cell_type": "code",
   "execution_count": 13,
   "id": "b9769f0a",
   "metadata": {},
   "outputs": [
    {
     "name": "stdout",
     "output_type": "stream",
     "text": [
      "Average marks in Math and Science: [86.6 83.2]\n"
     ]
    }
   ],
   "source": [
    "#Calculate the average marks in each subject (column-wise mean).\n",
    "\n",
    "average_marks = np.mean(data[:, 1:], axis=0)\n",
    "print(\"Average marks in Math and Science:\", average_marks)"
   ]
  },
  {
   "cell_type": "code",
   "execution_count": 14,
   "id": "1b354e20",
   "metadata": {},
   "outputs": [
    {
     "name": "stdout",
     "output_type": "stream",
     "text": [
      "Students scoring at least 80 in both subjects:\n",
      " [[19 97 88]\n",
      " [17 81 95]\n",
      " [20 95 85]]\n"
     ]
    }
   ],
   "source": [
    "#Get data of students who scored at least 80 in both subjects.\n",
    "\n",
    "students_above_80_both = data[(data[:, 1] >= 80) & (data[:, 2] >= 80)]\n",
    "print(\"Students scoring at least 80 in both subjects:\\n\", students_above_80_both)"
   ]
  },
  {
   "cell_type": "code",
   "execution_count": 15,
   "id": "f5085add",
   "metadata": {},
   "outputs": [
    {
     "name": "stdout",
     "output_type": "stream",
     "text": [
      "Science marks after replacing values less than 75 with 0:\n",
      " [78 88 95  0 85]\n"
     ]
    }
   ],
   "source": [
    "#Replace all Science marks < 75 with 0.\n",
    "\n",
    "data[:, 2][data[:, 2] < 75] = 0\n",
    "print(\"Science marks after replacing values less than 75 with 0:\\n\", data[:, 2])"
   ]
  },
  {
   "cell_type": "markdown",
   "id": "cf4a0771",
   "metadata": {},
   "source": [
    "Exercise:\n",
    " Try modifying the data array to add more students or subjects. Practice filtering and aggregating data using NumPy."
   ]
  }
 ],
 "metadata": {
  "kernelspec": {
   "display_name": "Python 3",
   "language": "python",
   "name": "python3"
  },
  "language_info": {
   "codemirror_mode": {
    "name": "ipython",
    "version": 3
   },
   "file_extension": ".py",
   "mimetype": "text/x-python",
   "name": "python",
   "nbconvert_exporter": "python",
   "pygments_lexer": "ipython3",
   "version": "3.13.1"
  }
 },
 "nbformat": 4,
 "nbformat_minor": 5
}
